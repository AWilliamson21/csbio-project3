{
  "cells": [
    {
      "cell_type": "markdown",
      "id": "1bf4d543",
      "metadata": {
        "id": "1bf4d543"
      },
      "source": [
        "# Project 3: Multiple Hypothesis Testing and CRISPR"
      ]
    },
    {
      "cell_type": "markdown",
      "id": "346cbc99",
      "metadata": {
        "id": "346cbc99"
      },
      "source": [
        "\n",
        "   <div class=\"alert alert-block alert-danger\">\n",
        "    <center>Due: <b>Monday 21 March, 8:59pm</b>.</center> \n",
        "   </div>\n",
        "   \n",
        "   <div class=\"alert alert-block alert-warning\">\n",
        "   <center>\n",
        "       <b>Collaboration and Resource Policy</b>\n",
        "    </center>\n",
        "    For this assignment, you are encouraged to work with one other person. \n",
        "    \n",
        "We expect most students will have the best learning experience on this assignment by working with a partner, but if you prefer to work alone it is okay to do this assignment on your own. Your partner can be anyone you mutually choose, so long as you are able to work together well.\n",
        "    \n",
        "You are permitted (actually <i>encouraged</i>) to discuss these problems with anyone you want, including other students in the class. If you do discuss the specific questions in the assignment with anyone other than your assignment partner and the course staff, though, you should list them in the _External resources used_ section below.\n",
        "    \n",
        "You are welcome to use any resources you want for this assignment, other than ones that would defeat the purpose of the assignment. This means you should not look at answers or code from any other students in the class (other than your collaboration with your partner), and if you find code that implements the exact problem you are being asked to do for the assignment, you should not use that code. Since parts of this assignment are adapted from an NCSU assignment, you should also not search for or use any answers you might find for that specific assignment. You should document all external resources you use that are not part of the course materials in the _External resources used_ section below.\n",
        "    </div>"
      ]
    },
    {
      "cell_type": "markdown",
      "id": "d7bb8ac4",
      "metadata": {
        "id": "d7bb8ac4"
      },
      "source": [
        "**Team submitting this assignment:**  \n",
        "<div class=\"alert alert-success\">\n",
        "    Anna Williamson (amw4uet)\n",
        "</div>\n",
        "\n",
        "**External resources used:** \n",
        "<div class=\"alert alert-success\">\n",
        "<em>It is not necessary to list the course materials, but if you used any other resources, including discussing problems with students not on your team, list them here.</em>\n",
        "</div>"
      ]
    },
    {
      "cell_type": "markdown",
      "id": "b30a7752",
      "metadata": {
        "id": "b30a7752"
      },
      "source": [
        " <div class=\"alert alert-block alert-warning\">\n",
        "    \n",
        "<b>Submission</b>: You should work on this assignment by following the directions provided at https://computingbiology.github.io/project3. Add the other teammate to as a collaborator with write access (also under the Settings tab) to this repository.\n",
        "    \n",
        "You should answer the questions and write your code in this Jupyter Notebook. (It is find if you prefer to organize your work some other way, but if you do, make sure your answers are clear and complete in the document you submit.) Parts where you are expected to provide an answer (which could be text that can be written in markdown format in the notebook or Python code that runs in the notebook) are marked in green.\n",
        "        \n",
        "When you are ready to submit the assignment, you should **print your notebook as a PDF file** (unlike previous projects, you do not need to submit your repository or source notebook). You should check that the printed PDF does contain all your answers and that they are readable in it. Then, send a message in slack to a channel that includes both team members (so the one sending this message should include the other team member) and all of the course staff (`dave`, `Hyun Jae Cho`, and `Anshuman Suri`) and attach the printed PDF to that message.\n",
        "    </div>"
      ]
    },
    {
      "cell_type": "markdown",
      "id": "ee5ef03c",
      "metadata": {
        "id": "ee5ef03c"
      },
      "source": [
        "## Getting Started"
      ]
    },
    {
      "cell_type": "markdown",
      "id": "64203753",
      "metadata": {
        "id": "64203753"
      },
      "source": [
        "For the second part of the project, you will need to install [SnapGene](https://www.snapgene.com/snapgene-viewer/). You do need to provide an email address to obtain a registration code to be able to use a free trial version, which will work for a month, which is more than sufficient for the current project. (Note that it is not necessary to provide a real email address for this, you can get the registration code from the web form and do not need to receive an email from them.)\n",
        "\n",
        "Their website has OS-specific instructions for installing the software."
      ]
    },
    {
      "cell_type": "code",
      "execution_count": null,
      "id": "685266f8",
      "metadata": {
        "id": "685266f8"
      },
      "outputs": [],
      "source": [
        "import numpy as np\n",
        "from scipy import stats\n",
        "import utils\n",
        "import matplotlib.pyplot as plt"
      ]
    },
    {
      "cell_type": "markdown",
      "id": "5e8a329e",
      "metadata": {
        "id": "5e8a329e"
      },
      "source": [
        "# Part 1: Multiple Hypotheses Testing"
      ]
    },
    {
      "cell_type": "markdown",
      "id": "f2df6862",
      "metadata": {
        "id": "f2df6862"
      },
      "source": [
        "These questions are about understanding how we learn correlations between genotypes and phonotypes, as discussed in [Class 10](https://computingbiology.github.io/class10/)."
      ]
    },
    {
      "cell_type": "markdown",
      "id": "9f1550c2",
      "metadata": {
        "id": "9f1550c2"
      },
      "source": [
        "<div class=\"alert alert-success\">\n",
        "\n",
        "**Problem 1 (a). Family-Wise Error Rate (FWER).** We are interested in finding out if a set of genes in the genome are differentially expressed between two populations with significance level of $\\alpha$ = 0.05. We are running $N=10000$ hypotheses simultaneously, one for each gene of interest. What is the probability that by chance (when none of the genes are actually correlated with the phenotype) that at least one of the hypotheses rejects the null hypothesis of no differential expression? \n",
        "\n",
        "</div>\n"
      ]
    },
    {
      "cell_type": "markdown",
      "id": "ec807a27",
      "metadata": {
        "id": "ec807a27"
      },
      "source": [
        "By using the given equation (1 - (1 - α)^m) where α = 0.05 and m = 10000, we can see that the probability that at least one of the tests rejects the null hypothesis (where the null hypothesis is that none of the genes are correlated with the phenotype) is approximately 1.0. This suggests that at least one of the tested genes impacts the expressed phenotype."
      ]
    },
    {
      "cell_type": "markdown",
      "id": "91893723",
      "metadata": {
        "id": "91893723"
      },
      "source": [
        "<div class=\"alert alert-success\">\n",
        "    \n",
        "**Bonferroni correction.**\n",
        "    \n",
        "**Problem 1 (b).** The more hypothesis tests are made simultaneously, the more likely at least one will be erroneously considered. This is commonly referred to as the multiple comparisons (hypotheses testing) problem. As discussed in class, a simple method to mitigate the problem is the Bonferroni correction. By running the Bonferroni correction, at what p-value cutoff would a null hypothesis be rejected when there are $N = 10,000$ hypotheses? \n",
        "    \n",
        "**Problem 1 (c).** Based on the $p$-value cutoff you determine for (b), what is the probability that by chance at least one of the hypotheses rejects the null hypothesis of no differential expression?\n",
        "\n",
        "</div>\n"
      ]
    },
    {
      "cell_type": "markdown",
      "id": "5327a791",
      "metadata": {
        "id": "5327a791"
      },
      "source": [
        "By applying the Bonferroni correction to the hypothesis testing and using the formula p = α/m, then we get a new p-value cutoff of 5.0 x 10^-6. Then we can apply the same formula (1 - (1 - α)^m) with this new p-value as α to show that there is a 0.0488 probability that at least one of the tests rejects the null hypothesis. "
      ]
    },
    {
      "cell_type": "markdown",
      "id": "32629692",
      "metadata": {
        "id": "32629692"
      },
      "source": [
        "**False Discovery Rate (FDR)** The Bonferroni correction assumes that all the hypotheses are independent of each other. However, we know that gene expressions are not always independent. With a large number of positively correlated hypotheses, the Bonferroni correction can be too conservative, leading to a high rate of false negatives, as you may have noticed when calculating the $p$-value cutoff above. This is especially true in the case of genomics, as preventing any single false positive may be too strict for genomewide studies.\n",
        "\n",
        "    \n",
        "One approach to conceptualize the rate of false discovery rate in multiple hypotheses testing is the False Discovery Rate (FDR), which is a more widely used metric of hypothesis testing in genomics. Briefly refer to the Definitions section in <a href=\"https://en.wikipedia.org/wiki/False_discovery_rate#:~:text=are%20independent.%5B10%5D-,Definitions,-%5Bedit%5D\">False Discovery Rate</a> to learn about the possible outcomes when testing multiple null hypotheses. The FDR value is calculated by $\\frac{V}{V+S}$, where V is the number of false positives (type I error) and S is the number of true positives.\n",
        "\n",
        "During our experiment, we find that only some of the genes are differentially expressed between the two populations. The measurements for the differential expressiveness of these genes will come from two different distributions (indicating the difference in the expressiveness for each population) and those of the non-differentially expressed genes will come from one (indicating no difference between the populations). \n",
        "\n",
        "Below, we have provided code for creating and sampling from three different normal distributions."
      ]
    },
    {
      "cell_type": "code",
      "execution_count": null,
      "id": "8634e0be",
      "metadata": {
        "id": "8634e0be"
      },
      "outputs": [],
      "source": [
        "def create_normal(mean, std, size):\n",
        "    return np.random.normal(mean, std, size)\n",
        "\n",
        "s1 = np.random.normal(0.0, 1.0, 10000) # distribution for the non-differentially expressed genes\n",
        "s2 = np.random.normal(1.0, 1.0, 10000) # distribution 1 for the differentially expressed genes\n",
        "s3 = np.random.normal(2.0, 1.0, 10000) # distribution 2 for the differentially expressed genes"
      ]
    },
    {
      "cell_type": "code",
      "execution_count": null,
      "id": "4b527561",
      "metadata": {
        "id": "4b527561"
      },
      "outputs": [],
      "source": [
        "def pvals_from_dists(dist1, dist2, num_samples, num_iters):\n",
        "    p_vals = []\n",
        "    for i in range(num_iters):\n",
        "        samples1 = np.random.choice(dist1, size=num_samples, replace=False)\n",
        "        samples2 = np.random.choice(dist2, size=num_samples, replace=False)\n",
        "        _, p = stats.ttest_ind(samples1, samples2)\n",
        "        p_vals.append(p)\n",
        "    return p_vals\n",
        "p_vals1 = pvals_from_dists(s1, s1, 10, 1000) # p-values from samples from s1\n",
        "p_vals2 = pvals_from_dists(s2, s3, 10, 1000) # p-values from samples from s2 and s3"
      ]
    },
    {
      "cell_type": "code",
      "execution_count": null,
      "id": "233c0d2c",
      "metadata": {
        "id": "233c0d2c",
        "outputId": "645109d8-ccc5-4f36-b1fb-ff365ae0e763",
        "colab": {
          "base_uri": "https://localhost:8080/"
        }
      },
      "outputs": [
        {
          "output_type": "execute_result",
          "data": {
            "text/plain": [
              "(1000, 1000)"
            ]
          },
          "metadata": {},
          "execution_count": 4
        }
      ],
      "source": [
        "len(p_vals1), len(p_vals2)"
      ]
    },
    {
      "cell_type": "markdown",
      "id": "85ce9ce2",
      "metadata": {
        "id": "85ce9ce2"
      },
      "source": [
        "<div class=\"alert alert-success\">\n",
        "\n",
        "**Problem 2 (a).** How many $p$-values are below 0.05 from `p_vals1` and `p_vals2`?\n",
        "</div>\n"
      ]
    },
    {
      "cell_type": "code",
      "execution_count": null,
      "id": "da632b23",
      "metadata": {
        "id": "da632b23",
        "colab": {
          "base_uri": "https://localhost:8080/"
        },
        "outputId": "2ebcf5cb-a2a6-486f-f834-a5c9ca1d7790"
      },
      "outputs": [
        {
          "output_type": "stream",
          "name": "stdout",
          "text": [
            "p-values below 0.05 from p_vals1:  45\n",
            "p-values below 0.05 from p_vals2:  566\n"
          ]
        }
      ],
      "source": [
        "belowp1 = 0\n",
        "for each1 in p_vals1:\n",
        "  if (each1 < 0.05):\n",
        "    belowp1 += 1\n",
        "\n",
        "belowp2 = 0\n",
        "for each2 in p_vals2:\n",
        "  if (each2 < 0.05):\n",
        "    belowp2 += 1\n",
        "\n",
        "print(\"p-values below 0.05 from p_vals1: \", belowp1)\n",
        "print(\"p-values below 0.05 from p_vals2: \", belowp2)"
      ]
    },
    {
      "cell_type": "markdown",
      "id": "04a04b04",
      "metadata": {
        "id": "04a04b04"
      },
      "source": [
        "There are 51 p-values below 0.05 from p_vals1.\n",
        "\n",
        "There are 529 p-values below 0.05 from p_vals2."
      ]
    },
    {
      "cell_type": "markdown",
      "id": "c5555199",
      "metadata": {
        "id": "c5555199"
      },
      "source": [
        "The provided code below plots histographs for the different distributions and $p$-values."
      ]
    },
    {
      "cell_type": "code",
      "execution_count": null,
      "id": "f3b30a2a",
      "metadata": {
        "id": "f3b30a2a",
        "outputId": "bb9428cb-c12d-46f9-db0b-eade4afcd8ef",
        "colab": {
          "base_uri": "https://localhost:8080/",
          "height": 336
        }
      },
      "outputs": [
        {
          "output_type": "display_data",
          "data": {
            "image/png": "[encoded data removed]",
            "text/plain": [
              "<Figure size 1080x360 with 3 Axes>"
            ]
          },
          "metadata": {
            "needs_background": "light"
          }
        }
      ],
      "source": [
        "num_bins = 30\n",
        "\n",
        "fig, (ax1, ax2, ax3) = plt.subplots(1, 3)\n",
        "fig.set_figheight(5)\n",
        "fig.set_figwidth(15)\n",
        "\n",
        "ax1.hist(s1, num_bins, density=True)\n",
        "ax1.set_title('s1 - non-differentially expressed')\n",
        "ax2.hist(s2, num_bins, density=True)\n",
        "ax2.set_title(\"s2 - differentially expressed\")\n",
        "ax3.hist(s3, num_bins, density=True)\n",
        "ax3.set_title(\"s3 - differentially expressed\")\n",
        "plt.show()"
      ]
    },
    {
      "cell_type": "code",
      "execution_count": null,
      "id": "236808a6",
      "metadata": {
        "id": "236808a6",
        "outputId": "67925074-2459-46b4-b898-e1a57463581c",
        "colab": {
          "base_uri": "https://localhost:8080/",
          "height": 336
        }
      },
      "outputs": [
        {
          "output_type": "display_data",
          "data": {
            "image/png": "[encoded data removed]",
            "text/plain": [
              "<Figure size 1080x360 with 2 Axes>"
            ]
          },
          "metadata": {
            "needs_background": "light"
          }
        }
      ],
      "source": [
        "fig, (ax1, ax2) = plt.subplots(1, 2)\n",
        "fig.set_figheight(5)\n",
        "fig.set_figwidth(15)\n",
        "pvals_counts1, bins1, _ = ax1.hist(p_vals1, num_bins)\n",
        "ax1.set_title('p-vals from samples from s1')\n",
        "pvals_counts2, bins2, _ = ax2.hist(p_vals2, num_bins)\n",
        "ax2.set_title(\"p-vals from samples from s2\")\n",
        "plt.show()"
      ]
    },
    {
      "cell_type": "markdown",
      "id": "af605b17",
      "metadata": {
        "id": "af605b17"
      },
      "source": [
        "<div class=\"alert alert-success\">\n",
        "\n",
        "**Problem 2 (b).** Explain why the histogram on the right is significantly skewed to the left.\n",
        "</div>"
      ]
    },
    {
      "cell_type": "markdown",
      "id": "a2bbf981",
      "metadata": {
        "id": "a2bbf981"
      },
      "source": [
        "The x-axis of these histograms is the SNPs and the y-axis is -log10(P). Note that -log10(P) inverts the given p-value and therefore represents the SNP (single nucleotide polymorhpism) frequency. WHAT ARE THE AXES?? NEEDS AXIS LABELS..."
      ]
    },
    {
      "cell_type": "markdown",
      "id": "201115c2",
      "metadata": {
        "id": "201115c2"
      },
      "source": [
        "<div class=\"alert alert-success\">\n",
        "    \n",
        "**Problem 2 (c).** The histogram (plotted below) of all of the genes is the sum of the hisgrams of the differentially expressed genes and the non-differentially expressed genes. Calculate the FDR value with $\\alpha=0.05$. \n",
        "</div>"
      ]
    },
    {
      "cell_type": "code",
      "execution_count": null,
      "id": "8f711a64",
      "metadata": {
        "id": "8f711a64",
        "outputId": "b039166d-d511-49bd-e080-7b5a892d7887",
        "colab": {
          "base_uri": "https://localhost:8080/",
          "height": 336
        }
      },
      "outputs": [
        {
          "output_type": "display_data",
          "data": {
            "image/png": "[encoded data removed]",
            "text/plain": [
              "<Figure size 1080x360 with 1 Axes>"
            ]
          },
          "metadata": {
            "needs_background": "light"
          }
        }
      ],
      "source": [
        "fig, ax1 = plt.subplots(1, 1)\n",
        "fig.set_figheight(5)\n",
        "fig.set_figwidth(15)\n",
        "\n",
        "pvals_counts, bins, _  = plt.hist((p_vals1+p_vals2), num_bins)\n",
        "plt.title(\"Sum of the two histograms.\")\n",
        "plt.show()"
      ]
    },
    {
      "cell_type": "code",
      "execution_count": null,
      "id": "b33c2026",
      "metadata": {
        "id": "b33c2026",
        "colab": {
          "base_uri": "https://localhost:8080/"
        },
        "outputId": "58f5efe7-b1ea-4604-e3d9-342707d3e2c9"
      },
      "outputs": [
        {
          "output_type": "stream",
          "name": "stdout",
          "text": [
            "FDR:  0.08793103448275862\n"
          ]
        }
      ],
      "source": [
        "'''\n",
        "FDR = V / (V + S)\n",
        "...where V is the probability of a type I error and S is the number of true positives\n",
        "\n",
        "Hmmm, can I just add these values? It seems that the data was simply added together in the histogram...\n",
        "\n",
        "References: https://www.scribbr.com/statistics/type-i-and-type-ii-errors/#:~:text=A%20Type%20I%20error%20means,alpha%20or%20%CE%B1)%20you%20choose.\n",
        "'''\n",
        "\n",
        "# V is the number of values such that the null hypothesis is true (data point is in s1) and the test is declared significant (p-value is less than 0.05)\n",
        "V = belowp1\n",
        "\n",
        "# S is the number of values such that the alternate hypothesis is true (data point is in s2) and the test is declared significant (p-value is less than 0.05)\n",
        "S = belowp2\n",
        "\n",
        "FDR = V / (V + S)\n",
        "print(\"FDR: \", FDR)"
      ]
    },
    {
      "cell_type": "markdown",
      "id": "3b2694bc",
      "metadata": {
        "id": "3b2694bc"
      },
      "source": [
        "The FDR (false discovery rate) at α = 0.05 is 0.0879."
      ]
    },
    {
      "cell_type": "markdown",
      "id": "d7d59f88",
      "metadata": {
        "id": "d7d59f88"
      },
      "source": [
        "# Part 2: Gene Editing with CRISPR"
      ]
    },
    {
      "cell_type": "markdown",
      "id": "84aa2bb1",
      "metadata": {
        "id": "84aa2bb1"
      },
      "source": [
        "This part of the assignment is heavily based on [https://qubeshub.org/community/groups/coursesource/publications?id=2701&v=1](https://qubeshub.org/community/groups/coursesource/publications?id=2701&v=1), and has been adapted to fit into our Notebook format of Projects. That assignment was developed by Leigh Ann Samsa, Linnea Andersen, Adam Groth, and Carlos Goller at North Carolina State University, and genorously shared under an open license which enables this adaptation. \n",
        "\n",
        "For this part, you will first implement your own algorithm that can infers Cas-specific spacer sequence length and Cas-specific PAM sequence, and finds potential target sites by comparing 20 nt sequences upstream of NGG PAMs to the rest of the genome. Unlike previous assignments in this class, you will be primarily using available tools (including the SnapGene tool you downloaded) and the [CRISPOR](http://crispor.tefor.net/) web-based tool) rather than implementing your own algorithms.\n",
        "\n",
        "[CRISPOR](http://crispor.tefor.net/) is a tool for designing a guideRNA (gRNA) for CRISPR. The source code for CRISPOR is available at https://github.com/maximilianh/crisporWebsite (but you are only expected to use the web interface for this assignment)."
      ]
    },
    {
      "cell_type": "markdown",
      "id": "1bc9f6d6",
      "metadata": {
        "id": "1bc9f6d6"
      },
      "source": [
        "<b>Approach:</b>  One of the applications of tools like CRISPOR is to use a gRNA to guide a Cas9 to a target site and provide a piece of donor DNA for Homology Directed Repair (HDR). The donor DNA is almost identical to the genomic sequence surrounding the target site with two exceptions (1) a silent mutation is introduced into the PAM so that the encoded amino acid coded is the same but the DNA it is not cleaved and (2) the donor DNA contains the DNA change you want to make in the genome. Note that it is not always possible to generate a silent mutation in the PAM sequence. Though HDR is not as efficient as Non-Homologous End Joining (NHEJ), with this approach you can make precise edits to the genome. Notably, this approach is not restricted to small changes - modifications of this approach can be used to knock in thousands of bases."
      ]
    },
    {
      "cell_type": "markdown",
      "source": [
        "PAM - protospacer adjacent motif; \"a short DNA sequence that follows the DNA region targeted for cleavage by the CRISPR system\"; it follows the protospacer sequence (i.e. the sequence in viral DNA invading the bacteria) so that the bacteria is able to identify this DNA as \"other\" without destroying the saved viral DNA in its own CRISPR array\n",
        "\n",
        "References: https://www.synthego.com/guide/how-to-use-crispr/pam-sequence"
      ],
      "metadata": {
        "id": "ftt8UZaswnmn"
      },
      "id": "ftt8UZaswnmn"
    },
    {
      "cell_type": "markdown",
      "id": "55a4d145",
      "metadata": {
        "id": "55a4d145"
      },
      "source": [
        "<b>Scenario</b>: Progeria (also known as Hutchinson-Gilford syndrome) is a rare (about 1 in 4,000,000) genetic disease of childhood characterized by dramatic, premature aging. As newborns, children with progeria usually appear normal. However, within a year, their growth rate slows, and they soon are much shorter and weigh much less than others their age. While possessing normal intelligence, affected children develop a distinctive appearance characterized by baldness, aged-looking skin, a pinched nose, and a small face and jaw relative to head size. They also often suffer from symptoms typically seen in much older people. Death occurs on average at age 13, usually from heart attack or stroke. ([NIH Genetic and Rare Disease Information Center](https://rarediseases.info.nih.gov/diseases/7467/disease) has more information on the disease.)"
      ]
    },
    {
      "cell_type": "markdown",
      "id": "52d28c12",
      "metadata": {
        "id": "52d28c12"
      },
      "source": [
        "<b>Experimental design</b>: Progeria is caused by a single point mutation in the lamin A gene (LMNA). This single-base substitution, G608G (GGC > GGT) within exon 11 is responsible for this autosomal dominant disease by activating a cryptic splice site, resulting in production of a protein product that deletes 50 amino acids near the carboxy terminus. (Source: [Eriksson et al. DOI: 10.1038/nature01629](https://www.nature.com/articles/nature01629)). \n",
        "\n",
        "First, you will understand how this single base substitution is sufficient to cause cellular indications of the disease. To do this, you have a human fibroblast cell line with the “wild type” GGC genotype in exon 11. You want to use HDR to replace the C with a T, and then compare the phenotype of the two genotypes on otherwise identical genetic backgrounds. Design a gRNA to use in combination with the SpCas9 of the G608 in exon 11 of human LMNA."
      ]
    },
    {
      "cell_type": "markdown",
      "id": "9113cfb7",
      "metadata": {
        "id": "9113cfb7"
      },
      "source": [
        "## Analyzing the Gene"
      ]
    },
    {
      "cell_type": "markdown",
      "id": "4535c492",
      "metadata": {
        "id": "4535c492"
      },
      "source": [
        "### Locating the Gene\n",
        "\n",
        "1. Access the NCBI website ([http://www.ncbi.nlm.nih.gov](https://www.ncbi.nlm.nih.gov/)) and select “gene” from the drop-down menu that currently displays “All databases”.\n",
        "2. Type the gene name (`LMNA`) into the search bar, and click on the gene corresponding to the correct species. This will take you to a webpage laying out known information about the gene. Halfway down the page is a viewer looking at the gene. We are going to use SnapGene to recreate and annotate parts of this viewer.\n",
        "\n",
        "In the “Genomic Context” heading, you should find the accession number and location range for the gene. Accession numbers are just unique, standardized identifiers for identifying information in the NCBI database. The `NC_` prefix means it is a reference assembly for a complete genomic molecule (see [GenBank Accessions](https://community.gep.wustl.edu/repository/course_materials_WU/annotation/Genbank_Accessions.pdf) for details on what the different prefixes mean). You should see the accession number `NC_000001.11` for the gene you located by following the two steps above, which identifies the first chromosome for homo sapiens (from a patched version of the GRCh38 human genome assembly). You can also find the locations where the LMNA gene occurs, which will be useful for finding it in SnapGene.\n",
        " "
      ]
    },
    {
      "cell_type": "markdown",
      "source": [
        "https://www.ncbi.nlm.nih.gov/gene/4000"
      ],
      "metadata": {
        "id": "106HeTvvziQi"
      },
      "id": "106HeTvvziQi"
    },
    {
      "cell_type": "markdown",
      "id": "80c22bf7",
      "metadata": {
        "id": "80c22bf7"
      },
      "source": [
        "### Identifying relevant regions\n",
        "\n",
        "1. Open SnapGene.\n",
        "2. File -> Import -> NCBI Sequence\n",
        "3. Enter your gene accession number and click Import. Note that this step can take quite a while- the final file is ~1GB, and the in-built downloader is not particularly fast. It took around 5-6 minutes on our machines (and SnapGene appears to hang while it is downloading - just be patient...)\n",
        "4. Save the file."
      ]
    },
    {
      "cell_type": "markdown",
      "id": "d4710f5f",
      "metadata": {
        "id": "d4710f5f"
      },
      "source": [
        "<div class=\"alert alert-warning\">\n",
        "    <b>Hint:</b> You can view specific Features by clicking on the 'Features' tab at the bottom of SnapGene. Remember that we want to focus on Exon 11 of LMNA Isoform A. As a sanity check, you can confirm that G608 indeed has gcc. Your 'Sequence' (after you find the correct Exon) should look something like this (assuming you chose to color the selected feature as red):\n",
        "</div>"
      ]
    },
    {
      "cell_type": "markdown",
      "source": [
        "The location of exon 11 depends partly on the transcript you are using in NCBI since there is some variation between them. I ended up arbitrarily deciding on transcript NM_170707.4 which stated that exon 11 existed between locations 156,138,488 and 156,138,757. For comparison, transcript NM_005572.4 did not even include an 11th exon... the other transcripts, however, had similar ranges for exon 11. \n",
        "\n",
        "References: https://www.youtube.com/watch?v=EVNABwOCt_s"
      ],
      "metadata": {
        "id": "ufmqVo01ebwM"
      },
      "id": "ufmqVo01ebwM"
    },
    {
      "cell_type": "markdown",
      "id": "1ec15cf3",
      "metadata": {
        "id": "1ec15cf3"
      },
      "source": [
        "![image.png](attachment:image.png)"
      ]
    },
    {
      "cell_type": "markdown",
      "id": "8aaac2e6",
      "metadata": {
        "id": "8aaac2e6"
      },
      "source": [
        "Now that we have found the desired mutation, we need to pick a target sequence to use for designing our gRNA. It should not be too short (e.g. not just GCC, since that could easily be repeated elsewhere) and not too long."
      ]
    },
    {
      "cell_type": "markdown",
      "id": "e3eebdd3",
      "metadata": {
        "id": "e3eebdd3"
      },
      "source": [
        "<div class=\"alert alert-success\">\n",
        "\n",
        "**Problem 3.** In SnapGene’s sequence view (select using the View menu) find the exon containing LMNA (if you select Zoom Controls in the View menu, you will be able to enter the location of the LMNA gene there). Copy the sequence (top strand of bases) of the exon you have chosen to target and paste it below.\n",
        "\n",
        "</div>"
      ]
    },
    {
      "cell_type": "markdown",
      "source": [
        "Remember that we are looking for a place to be cut with SpCas9, which has a PAM of \"NGG.\" Use the CRISPOR web application and submit exon 11 that needs to be edited."
      ],
      "metadata": {
        "id": "j3YzDckRhy5e"
      },
      "id": "j3YzDckRhy5e"
    },
    {
      "cell_type": "markdown",
      "id": "0fbafdc7",
      "metadata": {
        "id": "0fbafdc7"
      },
      "source": [
        "<div class=\"alert alert-warning\">\n",
        "    <b>Hint:</b> You can help the given function to make sure that you pick the right sequence. It should be 102bp long. Example usage is given below. Note that the output of this function being 'True' does not necessarily mean that you have picked the right sequence, but it is intented to be a helpful check so you know you are on the right track.</div>"
      ]
    },
    {
      "cell_type": "code",
      "execution_count": null,
      "id": "d896879b",
      "metadata": {
        "colab": {
          "base_uri": "https://localhost:8080/"
        },
        "id": "d896879b",
        "outputId": "10f88ace-ccf8-4745-a08f-f803e70795aa"
      },
      "outputs": [
        {
          "output_type": "execute_result",
          "data": {
            "text/plain": [
              "True"
            ]
          },
          "metadata": {},
          "execution_count": 4
        }
      ],
      "source": [
        "# Example - this is not the actual sequence\n",
        "#utils.check_if_desired_seq(\"cgcgtgcgggacctgcgggcagcctgccgacaaggcatctgcc\")\n",
        "utils.check_if_desired_seq(\"cgcaccgtgctgtgcgggacctgcgggcagcctgccgacaaggcatctgccagcggctcaggagcccaggtgggcggacccatctcctctggctcttctgcc\")"
      ]
    },
    {
      "cell_type": "markdown",
      "id": "5ffdf45f",
      "metadata": {
        "id": "5ffdf45f"
      },
      "source": [
        "gRNA sequence: cgcaccgtgctgtgcgggacctgcgggcagcctgccgacaaggcatctgccagcggctcaggagcccaggtgggcggacccatctcctctggctcttctgcc\n",
        "\n",
        "References: https://www.youtube.com/watch?v=dXPDefej0Ps "
      ]
    },
    {
      "cell_type": "markdown",
      "id": "e72c82f1",
      "metadata": {
        "id": "e72c82f1"
      },
      "source": [
        "## Using CRISPOR to design gRNA"
      ]
    },
    {
      "cell_type": "markdown",
      "id": "044ed780",
      "metadata": {
        "id": "044ed780"
      },
      "source": [
        "1. Open [CRISPOR](http://crispor.tefor.net/).\n",
        "1. Paste your target range into the `Step 1` box.\n",
        "3. Select the appropriate genome in the `Step 2` drop down menu. If there are multiple genome assemblies that match our study, select one and include a justification for your selection.\n",
        "4. Select the appropriate Cas PAM from the `Step 3` drop down menu.\n",
        "5. Click submit"
      ]
    },
    {
      "cell_type": "markdown",
      "id": "4890e482",
      "metadata": {
        "id": "4890e482"
      },
      "source": [
        "<div class=\"alert alert-success\">\n",
        "    \n",
        "**Problem 4.** What did you use for the genome (Step 2 above) and the PAM (Step 3)?\n",
        "    </div>"
      ]
    },
    {
      "cell_type": "markdown",
      "id": "a851df18",
      "metadata": {
        "id": "a851df18"
      },
      "source": [
        "Genome: cgcaccgtgctgtgcgggacctgcgggcagcctgccgacaaggcatctgccagcggctcaggagcccaggtgggcggacccatctcctctggctcttctgcc\n",
        "\n",
        "From the multiple possible genome assemblies, I selected \"Homo Sapiens - Human - UCSC Dec. 2013 (GRCh38/hg38) + SNPs: dbSNP 148, Kaviar\" because it is based off of the GRCh38 human genome assembly which we used as our genome for this project (retrieved from NCBI). \n",
        "\n",
        "I selected the \"NGG\" PAM with SpCas9 since this is the enzyme and associated PAM sequence that was mentioned in the project description in order to perform the desired mutation."
      ]
    },
    {
      "cell_type": "markdown",
      "id": "d5fae4ef",
      "metadata": {
        "id": "d5fae4ef"
      },
      "source": [
        "## Analyzing the CRISPOR Readout"
      ]
    },
    {
      "cell_type": "markdown",
      "id": "9186c8cf",
      "metadata": {
        "id": "9186c8cf"
      },
      "source": [
        "<div class=\"alert alert-success\">\n",
        "\n",
        "**Problem 5 (a).** How long is your sequence?\n",
        "\n",
        "</div>"
      ]
    },
    {
      "cell_type": "markdown",
      "id": "ee160496",
      "metadata": {
        "id": "ee160496"
      },
      "source": [
        "The sequence is 102 bp long."
      ]
    },
    {
      "cell_type": "markdown",
      "id": "d4e3ba82",
      "metadata": {
        "id": "d4e3ba82"
      },
      "source": [
        "<div class=\"alert alert-success\">\n",
        "\n",
        "**Problem 5 (b).** How many possible guides are in your sequence?\n",
        "\n",
        "</div>"
      ]
    },
    {
      "cell_type": "markdown",
      "id": "b53758c2",
      "metadata": {
        "id": "b53758c2"
      },
      "source": [
        "There are 19 possible guide sequences."
      ]
    },
    {
      "cell_type": "markdown",
      "id": "906bbae9",
      "metadata": {
        "id": "906bbae9"
      },
      "source": [
        "<div class=\"alert alert-success\">\n",
        "\n",
        "**Problem 5 (c).** Are there any regions of your sequence that are particularly rich or poor in possible guide sites?\n",
        "\n",
        "</div>"
      ]
    },
    {
      "cell_type": "markdown",
      "id": "cc0ecc8f",
      "metadata": {
        "id": "cc0ecc8f"
      },
      "source": [
        "Yes - there is a region near the end of the sequence that could allow for 6 different possible guide sites (though with varying specificity). This occurs approximately between base pairs 63 and 77. There are quite a few locations along the sequence that contain no guide sites, particularly the beginning and end of the sequence as well as some locations in between possible guide site locations."
      ]
    },
    {
      "cell_type": "markdown",
      "id": "028a92e0",
      "metadata": {
        "id": "028a92e0"
      },
      "source": [
        "## Analyzing the gRNA"
      ]
    },
    {
      "cell_type": "markdown",
      "id": "016712bd",
      "metadata": {
        "id": "016712bd"
      },
      "source": [
        "<div class=\"alert alert-success\">\n",
        "\n",
        "**Problem 6 (a).** What is gRNA specificity? What is the range of MIT Specificity Scores? What does a high score mean?  \n",
        "\n",
        "</div>"
      ]
    },
    {
      "cell_type": "markdown",
      "id": "4a0019a9",
      "metadata": {
        "id": "4a0019a9"
      },
      "source": [
        "gRNA specificity refers to amount of off-target effects that are expected to occur, where a more unique sequence within the genome can expect fewer of these unintended consequences while a less unique sequence within the genome can expect more unintended consequences as the likelihood of the gRNA to match with a different, unplanned location on the genome increases. The range of MIT Specificity Scores is between 0 and 100, where a high score means that fewer off-target effects can be expected. \n",
        "\n",
        "\n",
        "References: https://horizondiscovery.com/en/applications/gene-editing/crispr-guide-rna-specificity, https://genome.ucsc.edu/cgi-bin/hgTrackUi?db=criGri1&g=crispr#:~:text=The%20MIT%20Specificity%20score%20summarizes,rather%20strong%20or%20weak%20cleavage "
      ]
    },
    {
      "cell_type": "markdown",
      "id": "7a7ccb9e",
      "metadata": {
        "id": "7a7ccb9e"
      },
      "source": [
        "<div class=\"alert alert-success\">\n",
        "\n",
        "**Problem 6 (b).** What is gRNA efficiency? What is the range of Doench’16 Efficiency Scores? What does a high score mean?\n",
        "\n",
        "</div>"
      ]
    },
    {
      "cell_type": "markdown",
      "id": "3bd59866",
      "metadata": {
        "id": "3bd59866"
      },
      "source": [
        "gRNA efficiency describes how well the target sequence in the genome will be cut by the gRNA. The range of Doench'16 Efficiency Scores is between 0 and 100, where a high score indicates that \n",
        "\n",
        "References: http://crispor.tefor.net/manual/, "
      ]
    },
    {
      "cell_type": "markdown",
      "id": "074f009e",
      "metadata": {
        "id": "074f009e"
      },
      "source": [
        "<div class=\"alert alert-success\">\n",
        "\n",
        "**Problem 6 (c).** What is a gRNA outcome prediction? What is the range of outcomes (labeled as `Out-of-Frame`)? What does a high score mean?\n",
        "\n",
        "</div>"
      ]
    },
    {
      "cell_type": "markdown",
      "id": "e1000bef",
      "metadata": {
        "id": "e1000bef"
      },
      "source": [
        "A gRNA outcome prediction desribes the probability of introducing deletions into the genome \"out-of-frame\", i.e. deletions that do not occur in multiples of three and so impact the \"frame\" and amino-acid encoding of the genome. The range of and \"Out-of-Frame\" scale is beteween 0 and 100, where a high score means that there is a greater expected number of these \"out-of-frame\" deletions.\n",
        "\n",
        "References: https://practical-haemostasis.com/Genetics/genetics_mutational_analysis.html, http://crispor.tefor.net/manual/ "
      ]
    },
    {
      "cell_type": "markdown",
      "id": "fbffa82e",
      "metadata": {
        "id": "fbffa82e"
      },
      "source": [
        "## Selecting a Target Site"
      ]
    },
    {
      "cell_type": "markdown",
      "id": "83afc8e7",
      "metadata": {
        "id": "83afc8e7"
      },
      "source": [
        "For all of the answers below, remember that the focus of the experiment is to be able to modify the G608 nucleotide. Thus, we would want to find a target sequence such that G608 is included in it.\n",
        "\n",
        "<div class=\"alert alert-warning\">\n",
        "    <b>Hint:</b> You should not see more than 3 high-specifity candidates that satisfy this requirement.\n",
        "</div>"
      ]
    },
    {
      "cell_type": "markdown",
      "id": "0117b6ac",
      "metadata": {
        "id": "0117b6ac"
      },
      "source": [
        "<div class=\"alert alert-success\">\n",
        "\n",
        "**Problem 7 (a).** What are off-target 0-1-2-3-4 mismatches? How are the mismatches shown in black different from the mismatches shown in gray?\n",
        "\n",
        "</div>"
      ]
    },
    {
      "cell_type": "markdown",
      "id": "465000c0",
      "metadata": {
        "id": "465000c0"
      },
      "source": [
        "Off-target 0-1-2-3-4 mismatches is a system to describe the number and relationship of mismatches and off-targets. The digit refers to the number of off-targets while the index (starting at zero) refers to the number of mismatches. The off-targets shown in gray are ones that aren't associated with any mismatches within a 12 bp range of the sequence. \n",
        "\n",
        "References: http://crispor.tefor.net/crispor.py?batchId=ELBFf4bV3hYjqbHIRt5C "
      ]
    },
    {
      "cell_type": "markdown",
      "id": "a17af651",
      "metadata": {
        "id": "a17af651"
      },
      "source": [
        "<div class=\"alert alert-success\">\n",
        "\n",
        "**Problem 7 (b).** Rank the top 3 matches according to specificity, along with their scores.\n",
        "\n",
        "</div>"
      ]
    },
    {
      "cell_type": "markdown",
      "id": "1db12daf",
      "metadata": {
        "id": "1db12daf"
      },
      "source": [
        "1. GTGGGCGGACCCATCTCCTC TGG with specificity of 87 (90/fw)\n",
        "2. CTGGCAGATGCCTTGTCGGC AGG with specificity of 86 (31/rev)\n",
        "3. AGGAGATGGGTCCGCCCACC TGG with specificity of 86 (66/rev)"
      ]
    },
    {
      "cell_type": "markdown",
      "id": "9972bdd9",
      "metadata": {
        "id": "9972bdd9"
      },
      "source": [
        "<div class=\"alert alert-success\">\n",
        "\n",
        "**Problem 7 (c).** Rank the top 3 matches according to efficiency (and specify which score you used), along with their scores.\n",
        "\n",
        "</div>"
      ]
    },
    {
      "cell_type": "markdown",
      "id": "9c9624a2",
      "metadata": {
        "id": "9c9624a2"
      },
      "source": [
        "1. GCCGACAAGGCATCTGCCAG CGG with efficiency of 57 (54/fw)\n",
        "2. GGAGATGGGTCCGCCCACCT GGG with efficiency of 56 (65/rev)\n",
        "3. CAGCGGCTCAGGAGCCCAGG TGG with efficiency of 55 (71/fw)\n",
        "\n",
        "Ranked by Doench’16 Efficiency Score."
      ]
    },
    {
      "cell_type": "markdown",
      "id": "187b22d8",
      "metadata": {
        "id": "187b22d8"
      },
      "source": [
        "<div class=\"alert alert-success\">\n",
        "\n",
        "**Problem 7 (d).** Rank the top 3 matches according to outcome (and specify which score you used), along with their scores.\n",
        "\n",
        "</div>"
      ]
    },
    {
      "cell_type": "markdown",
      "id": "7b6e3356",
      "metadata": {
        "id": "7b6e3356"
      },
      "source": [
        "1. CTGGCAGATGCCTTGTCGGC AGG with outcome of 73 (31/rev)\n",
        "2. CCGTGCTGTGCGGGACCTGC GGG with outcome of 73 (25/fw)\n",
        "3. CACCTGGGCTCCTGAGCCGC TGG with outcome of 71 (50/rev)\n",
        "\n",
        "Ranked by \"Out-of-Frame\" outcome score."
      ]
    },
    {
      "cell_type": "markdown",
      "id": "5fd21a31",
      "metadata": {
        "id": "5fd21a31"
      },
      "source": [
        "<div class=\"alert alert-success\">\n",
        "\n",
        "**Problem 7 (e).** Rank the top 3 matches according to off-target effects\n",
        "\n",
        "</div>"
      ]
    },
    {
      "cell_type": "markdown",
      "id": "5930ba4e",
      "metadata": {
        "id": "5930ba4e"
      },
      "source": [
        "*Ranked by largest off-target effects\n",
        "1. GGCAGAAGAGCCAGAGGAGA TGG with 1163 off-targets (80/rev)\n",
        "2. GGCTCAGGAGCCCAGGTGGG CGG with 807 off-targets (75/fw)\n",
        "3. CAGCGGCTCAGGAGCCCAGG TGG with 614 off-targets (71/fw)\n",
        "\n",
        "*Ranked by smallest off-target effects\n",
        "1. GTGGGCGGACCCATCTCCTC TGG with 81 off-targets (90/fw)\n",
        "2. CTTGTCGGCAGGCTGCCCGC AGG with 82 off-targets (20/rev)\n",
        "3. GCCGACAAGGCATCTGCCAG CGG with 87 off-targets (54/fw)"
      ]
    },
    {
      "cell_type": "markdown",
      "id": "ba8d22da",
      "metadata": {
        "id": "ba8d22da"
      },
      "source": [
        "<div class=\"alert alert-success\">\n",
        "\n",
        "**Problem 7 (f).** Based on these results and your findings, select the \"best\" guide, and explain why you choose the one you do. Mention the selected target sequence (DNA) and the spacer sequence (RNA) separately.\n",
        "\n",
        "</div>"
      ]
    },
    {
      "cell_type": "markdown",
      "id": "05fd62cd",
      "metadata": {
        "id": "05fd62cd"
      },
      "source": [
        "\"If you have a choice between many specific guides, however, or you are screening many guides, you may want to prefer guides with high efficiency scores.\" - http://crispor.tefor.net/manual/ \n",
        "\n",
        "The \"best\" guide: GCCGACAAGGCATCTGCCAG CGG with efficiency of 57 (54/fw)\n",
        "\n",
        "I chose this guide because it had the best efficiency score, which another source has suggested is important for deciding between guide sequences. This guide also has a relatively high specificity score that is greater than 50, which suggests that there will be fewer off-target effects.\n",
        "\n",
        "** What to write about the selected target sequence (DNA) and spacer sequence (RNA)???? **\n",
        "\n",
        "Hmmm... it may be the case that a gRNA must cover the sequence we want to edit, in this case \"GGC\" or Gly 608! Therefore, I must choose a guide sequence that spans this \"GGC\" sequence: either 64 rev, 66 rev, or 90 forw. Leaning towards 90 forw because of its specificity (and also fewest off-target effects)..."
      ]
    },
    {
      "cell_type": "markdown",
      "id": "abe89de3",
      "metadata": {
        "id": "abe89de3"
      },
      "source": [
        "## Anticipated Off-Target Effects"
      ]
    },
    {
      "cell_type": "markdown",
      "id": "39b42fab",
      "metadata": {
        "id": "39b42fab"
      },
      "source": [
        "1. Locate your selected guide in CRISPOR\n",
        "2. For each of the 1, 2, and 3 mismatch targets, record the genomic location of the anticipated off-target cut. (If your guide only has 4-mismatch targets, do this for one of them)."
      ]
    },
    {
      "cell_type": "markdown",
      "source": [
        "The selected guide has off-target 0-0-0-7-80 mismatches:\n",
        "- 60 to 62 bp (agg)\n",
        "- 61 to 63 bp (gga)\n",
        "- 62 to 64 bp (gag)\n",
        "- 68 to 70 by (agg)\n",
        "- ...?\n",
        "\n",
        "Does this have to stay within 12bp of the PAM? Does it have to match NGG or can it match NGG, NAG, or NGA as specified on the site?"
      ],
      "metadata": {
        "id": "_Vexd8PerffW"
      },
      "id": "_Vexd8PerffW"
    },
    {
      "cell_type": "markdown",
      "id": "85a69fef",
      "metadata": {
        "id": "85a69fef"
      },
      "source": [
        "<div class=\"alert alert-success\">\n",
        "\n",
        "**Problem 8** Go to the NCBI genome browser for your organism, enter the genome location, and describe its location. Is it in an intergenic region, promoter, intron, an exon etc...? Repeat this for 1 mismatch per n-target mismatches. \n",
        "    \n",
        "<b>Optional Bonus Question:</b> Do you see any interesting studies related to these targets? Can you understand anything useful from them?\n",
        "\n",
        "</div>"
      ]
    },
    {
      "cell_type": "markdown",
      "id": "db43b6f9",
      "metadata": {
        "id": "db43b6f9"
      },
      "source": [
        "_Type your answer here_"
      ]
    },
    {
      "cell_type": "markdown",
      "id": "2d4024ee",
      "metadata": {
        "id": "2d4024ee"
      },
      "source": [
        "## Annotate the gRNAs on your SnapGene file"
      ]
    },
    {
      "cell_type": "markdown",
      "id": "4047cdda",
      "metadata": {
        "id": "4047cdda"
      },
      "source": [
        "First, let's download the annotated features:\n",
        "\n",
        "1. Click “Download for SnapGene” in the sequence box. \n",
        "2. Open the downloaded file in SnapGene and transfer the annotated features to your gene file. The file contains your target range with all the possible spacer sequences as annotated features. Each feature is already marked on the correct strand and includes information about the specificity and index scores. It does <b>NOT</b> label the PAM sequence.\n",
        "3. In your saved gene file (from step 2) click Feature -> Import feature -> Import feature from a SnapGene File then select the open file from the dropdown menu.\n",
        "4. SnapGene - Click OK then “Add Features”. This may take a while."
      ]
    },
    {
      "cell_type": "markdown",
      "id": "428a35bd",
      "metadata": {
        "id": "428a35bd"
      },
      "source": [
        "Your screen should look something like this (note that this is an example- the exact target sequences may not be the same). The <i>ggc</i> in pink here is the mutation we care about."
      ]
    },
    {
      "cell_type": "markdown",
      "id": "85eec5c2",
      "metadata": {
        "id": "85eec5c2"
      },
      "source": [
        "![image.png](attachment:image.png)"
      ]
    },
    {
      "cell_type": "markdown",
      "id": "cd59be7e",
      "metadata": {
        "id": "cd59be7e"
      },
      "source": [
        "Now that we have downloaded and added all features, let's identify the guide sequence we shortlisted above and find its corresponding PAM sequence:\n",
        "\n",
        "1. Now your gene is annotated with all the possible guide sequences.\n",
        "2. Annotate the “best” target sequence that you selected \n",
        "3. Locate and double click on the feature containing your selected sequence and set it color to pink (or some other color that is not already present)\n",
        "4. Locate the PAM sequence associated with your selected guide. Add it as a new feature labeled “PAM” (Highlight the bases then Feature -> Add Feature).  "
      ]
    },
    {
      "cell_type": "markdown",
      "id": "6c906b38",
      "metadata": {
        "id": "6c906b38"
      },
      "source": [
        "Here's an example of what you should be seeing when you're done with all your steps (Instead of 'Example', you will see identifiers for the target sequences)."
      ]
    },
    {
      "cell_type": "markdown",
      "id": "aaa7eadd",
      "metadata": {
        "id": "aaa7eadd"
      },
      "source": [
        "![image.png](attachment:image.png)"
      ]
    },
    {
      "cell_type": "markdown",
      "id": "b403d049",
      "metadata": {
        "id": "b403d049"
      },
      "source": [
        "<div class=\"alert alert-success\">\n",
        "\n",
        "**Problem 9** Add a screenshot below of the sequence that shows the exon along with the selected guide sequence and PAM annoteted. Save your file and include it in your project submission.\n",
        "\n",
        "</div>"
      ]
    },
    {
      "cell_type": "markdown",
      "id": "397c5478",
      "metadata": {
        "id": "397c5478"
      },
      "source": [
        "_Type your answer here_"
      ]
    },
    {
      "cell_type": "markdown",
      "id": "db4e05b1",
      "metadata": {
        "id": "db4e05b1"
      },
      "source": [
        "## Picking the \"best\" guide sequence"
      ]
    },
    {
      "cell_type": "markdown",
      "id": "e03ad8c0",
      "metadata": {
        "id": "e03ad8c0"
      },
      "source": [
        "<div class=\"alert alert-success\">\n",
        "\n",
        "**Problem 10 (a).** Look back to **Problem 7 (f)**, which asked you to pick the \"best\" guide sequence. Let's say the disease were something critically life-threatening that *had* to be treated and this CRISPR edit is the only option. For the same given sequence, would your \"best\" guide sequence be any different? Explain why. If not, specify which one you would have picked.\n",
        "\n",
        "</div>"
      ]
    },
    {
      "cell_type": "markdown",
      "id": "525ee2c4",
      "metadata": {
        "id": "525ee2c4"
      },
      "source": [
        "_Type your answer here_"
      ]
    },
    {
      "cell_type": "markdown",
      "id": "85eb69f2",
      "metadata": {
        "id": "85eb69f2"
      },
      "source": [
        "<div class=\"alert alert-success\">\n",
        "\n",
        "**Problem 10 (b).** What if it were a a mild condition that posed no serious threat (which is not the case for Progeria, which nearly always results in an early death), but reduced the patient's quality of life. For instance, chronic allergic reactions that lead to mild rashes on a small patch of skin. Would your \"best\" guide sequence be any different? Explain why. If not, specify which one you would have picked.\n",
        "\n",
        "</div>"
      ]
    },
    {
      "cell_type": "markdown",
      "id": "88c46f7d",
      "metadata": {
        "id": "88c46f7d"
      },
      "source": [
        "_Type your answer here_"
      ]
    },
    {
      "cell_type": "markdown",
      "id": "2fe50dfc",
      "metadata": {
        "id": "2fe50dfc"
      },
      "source": [
        "**End of Project 3!** (Remember to submit your answers as a PDF, as described above.)"
      ]
    }
  ],
  "metadata": {
    "kernelspec": {
      "display_name": "Python 3",
      "language": "python",
      "name": "python3"
    },
    "language_info": {
      "codemirror_mode": {
        "name": "ipython",
        "version": 3
      },
      "file_extension": ".py",
      "mimetype": "text/x-python",
      "name": "python",
      "nbconvert_exporter": "python",
      "pygments_lexer": "ipython3",
      "version": "3.6.4"
    },
    "colab": {
      "name": "project3.ipynb",
      "provenance": [],
      "collapsed_sections": []
    }
  },
  "nbformat": 4,
  "nbformat_minor": 5
}